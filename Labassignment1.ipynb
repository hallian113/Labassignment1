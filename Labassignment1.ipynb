{
  "nbformat": 4,
  "nbformat_minor": 0,
  "metadata": {
    "colab": {
      "provenance": []
    },
    "kernelspec": {
      "name": "python3",
      "display_name": "Python 3"
    },
    "language_info": {
      "name": "python"
    }
  },
  "cells": [
    {
      "cell_type": "code",
      "execution_count": 17,
      "metadata": {
        "colab": {
          "base_uri": "https://localhost:8080/"
        },
        "id": "Bmf26mwOvHRu",
        "outputId": "4a808a40-f7d7-4b06-dc88-afa27c6b64ae"
      },
      "outputs": [
        {
          "output_type": "stream",
          "name": "stdout",
          "text": [
            "BFS (tree) ['A', 'B', 'C', 'D', 'E']\n",
            "DFS (tree) ['A', 'B', 'D', 'E', 'C']\n"
          ]
        }
      ],
      "source": [
        "https://youtu.be/fzj4VUcRXUs\n",
        "\n",
        "from collections import deque\n",
        "\n",
        "tree={\n",
        "    'A':['B','C'],\n",
        "    'B':['D','E'],\n",
        "    'C':[],\n",
        "    'D':[],\n",
        "    'E':[]\n",
        "}\n",
        "\n",
        "def bfs_tree(start):\n",
        "    visited = []\n",
        "    queue= deque([start])\n",
        "\n",
        "    while queue:\n",
        "        node= queue.popleft()\n",
        "        visited.append(node)\n",
        "        queue.extend(tree[node])\n",
        "\n",
        "    return visited\n",
        "\n",
        "def dfs_tree(start):\n",
        "    visited =[]\n",
        "    stack= [start]\n",
        "\n",
        "    while stack:\n",
        "       node=stack.pop()\n",
        "       if node not in visited:\n",
        "            visited.append(node)\n",
        "            stack.extend(reversed(tree[node]))\n",
        "\n",
        "    return visited\n",
        "\n",
        "print(\"BFS (tree)\",bfs_tree('A'))\n",
        "print(\"DFS (tree)\",dfs_tree('A'))\n"
      ]
    },
    {
      "cell_type": "code",
      "source": [
        "from collections import deque\n",
        "\n",
        "graph = {\n",
        "    'A': ['B', 'C'],\n",
        "    'B': ['A', 'C', 'D'],\n",
        "    'C': ['A', 'B'],\n",
        "    'D': ['B']\n",
        "}\n",
        "\n",
        "def bfs_graph(graph, start):\n",
        "    visited = set()\n",
        "    queue = deque([start])\n",
        "    result = []\n",
        "\n",
        "    while queue:\n",
        "        node = queue.popleft()\n",
        "        if node not in visited:\n",
        "            visited.add(node)  # Fix: use set's add method\n",
        "            result.append(node)\n",
        "            queue.extend(neighbour for neighbour in graph[node] if neighbour not in visited)\n",
        "    return result\n",
        "\n",
        "def dfs_graph(graph, node, visited=None):\n",
        "    if visited is None:\n",
        "        visited = set()\n",
        "    visited.add(node)\n",
        "    result = [node]\n",
        "    for neighbour in graph[node]:\n",
        "        if neighbour not in visited:\n",
        "            result.extend(dfs_graph(graph, neighbour, visited))\n",
        "    return result\n",
        "\n",
        "# Fixed variable name\n",
        "start_node = 'A'\n",
        "bfs_graph_result = bfs_graph(graph,start_node)\n",
        "dfs_graph_result = dfs_graph(graph,start_node)\n",
        "\n",
        "print(\"BFS Graph\",bfs_graph_result)\n",
        "print(\"DFS Graph\",dfs_graph_result)\n"
      ],
      "metadata": {
        "colab": {
          "base_uri": "https://localhost:8080/"
        },
        "id": "jv5ln63Y_O8p",
        "outputId": "4967fe7b-28f2-41e7-843d-7a5da9fae328"
      },
      "execution_count": 25,
      "outputs": [
        {
          "output_type": "stream",
          "name": "stdout",
          "text": [
            "BFS Graph ['A', 'B', 'C', 'D']\n",
            "DFS Graph ['A', 'B', 'C', 'D']\n"
          ]
        }
      ]
    },
    {
      "cell_type": "code",
      "source": [
        "import random\n",
        "import time\n",
        "import pandas as pd\n",
        "import matplotlib.pyplot as plt\n",
        "from collections import deque\n",
        "\n",
        "\n",
        "sizes = [1000, 40000, 80000, 200000, 1000000]\n",
        "results = []\n",
        "\n",
        "\n",
        "class Node:\n",
        "    def __init__(self, value):\n",
        "        self.value = value\n",
        "        self.left = None\n",
        "        self.right = None\n",
        "\n",
        "\n",
        "def insert(root, value):\n",
        "    if root is None:\n",
        "      return Node(value)\n",
        "    if value < root.value:\n",
        "        root.left = insert(root.left, value)\n",
        "    else:\n",
        "        root.right = insert(root.right, value)\n",
        "    return root\n",
        "\n",
        "# Build BST from list\n",
        "def build_tree(data):\n",
        "    root = None\n",
        "    for val in data:\n",
        "        root = insert(root, val)\n",
        "    return root\n",
        "\n",
        "\n",
        "def bfs(root, target):\n",
        "    start = time.time()\n",
        "    queue = deque([root])\n",
        "    while queue:\n",
        "        node = queue.popleft()\n",
        "        if node:\n",
        "            if node.value == target:\n",
        "                break\n",
        "            queue.append(node.left)\n",
        "            queue.append(node.right)\n",
        "    return time.time() - start\n",
        "\n",
        "\n",
        "def dfs(root, target):\n",
        "    start = time.time()\n",
        "    stack = [root]\n",
        "    while stack:\n",
        "        node = stack.pop()\n",
        "        if node:\n",
        "            if node.value == target:\n",
        "                break\n",
        "            stack.append(node.right)\n",
        "            stack.append(node.left)\n",
        "    return time.time() - start\n",
        "\n",
        "\n",
        "for size in sizes:\n",
        "    data = random.sample(range(size * 2), size)\n",
        "    root = build_tree(data)\n",
        "    goal = data[-220]\n",
        "    bfs_time = bfs(root, goal)\n",
        "    dfs_time = dfs(root, goal)\n",
        "    results.append({'Size': size, 'BFS Time (s)': bfs_time, 'DFS Time (s)': dfs_time})\n",
        "\n",
        "\n",
        "df = pd.DataFrame(results)\n",
        "print(df)\n",
        "\n",
        "\n",
        "plt.bar([str(x) for x in df['Size']], df['BFS Time (s)'], label='BFS')\n",
        "plt.bar([str(x) for x in df['Size']], df['DFS Time (s)'], label='DFS', alpha=0.7)\n",
        "plt.xlabel('Dataset size')\n",
        "plt.ylabel('Time (sec)')\n",
        "plt.title('BFS vs DFS comparison')\n",
        "plt.legend()\n",
        "plt.tight_layout()\n",
        "plt.show()\n"
      ],
      "metadata": {
        "colab": {
          "base_uri": "https://localhost:8080/",
          "height": 591
        },
        "id": "Gd-KXpaZIWlr",
        "outputId": "1e726f72-f343-45fc-fb61-bca8ea5e99fe"
      },
      "execution_count": 7,
      "outputs": [
        {
          "output_type": "stream",
          "name": "stdout",
          "text": [
            "      Size  BFS Time (s)  DFS Time (s)\n",
            "0     1000      0.000189      0.000055\n",
            "1    40000      0.025275      0.010989\n",
            "2    80000      0.069807      0.025333\n",
            "3   200000      0.083460      0.122888\n",
            "4  1000000      1.224950      0.488025\n"
          ]
        },
        {
          "output_type": "display_data",
          "data": {
            "text/plain": [
              "<Figure size 640x480 with 1 Axes>"
            ],
            "image/png": "[encoded data removed]"
          },
          "metadata": {}
        }
      ]
    },
    {
      "cell_type": "code",
      "source": [
        "from collections import deque\n",
        "\n",
        "\n",
        "graph = {\n",
        "    'Islamabad': ['Rawalpindi', 'Lahore', 'Peshawar'],\n",
        "    'Rawalpindi': ['Islamabad', 'Peshawar', 'Quetta'],\n",
        "    'Peshawar': ['Islamabad', 'Rawalpindi', 'Quetta'],\n",
        "    'Lahore': ['Islamabad', 'Multan', 'Quetta'],\n",
        "    'Multan': ['Lahore', 'Karachi', 'Quetta'],\n",
        "    'Quetta': ['Rawalpindi', 'Peshawar', 'Multan', 'Karachi'],\n",
        "    'Karachi': ['Multan', 'Quetta']\n",
        "}\n",
        "\n",
        "\n",
        "def bfs_shortest_path(graph, start, goal):\n",
        "    queue = deque([[start]])\n",
        "\n",
        "\n",
        "    visited = set([start])\n",
        "\n",
        "    while queue:\n",
        "        path = queue.popleft()\n",
        "        current_city = path[-1]\n",
        "\n",
        "        if current_city == goal:\n",
        "            return path\n",
        "\n",
        "        for neighbor in graph[current_city]:\n",
        "            if neighbor not in visited:\n",
        "                visited.add(neighbor)\n",
        "                queue.append(path + [neighbor])\n",
        "\n",
        "    return None\n",
        "\n",
        "\n",
        "start_city = 'Islamabad'\n",
        "goal_city = 'Karachi'\n",
        "shortest_path = bfs_shortest_path(graph, start_city, goal_city)\n",
        "\n",
        "\n",
        "if shortest_path:\n",
        "    print(f\"The shortest path from {start_city} to {goal_city} is:\")\n",
        "    print(\" -> \".join(shortest_path))\n",
        "else:\n",
        "    print(f\"No path found from {start_city} to {goal_city}.\")"
      ],
      "metadata": {
        "colab": {
          "base_uri": "https://localhost:8080/"
        },
        "id": "LdQYFQarUHpt",
        "outputId": "4a04f9d3-58cb-4d74-d559-6b06c59270f0"
      },
      "execution_count": 11,
      "outputs": [
        {
          "output_type": "stream",
          "name": "stdout",
          "text": [
            "The shortest path from Islamabad to Karachi is:\n",
            "Islamabad -> Rawalpindi -> Quetta -> Karachi\n"
          ]
        }
      ]
    }
  ]
}